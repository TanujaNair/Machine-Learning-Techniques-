{
  "nbformat": 4,
  "nbformat_minor": 0,
  "metadata": {
    "colab": {
      "name": "Components of ML Process.ipynb",
      "provenance": []
    },
    "kernelspec": {
      "name": "python3",
      "display_name": "Python 3"
    },
    "language_info": {
      "name": "python"
    }
  },
  "cells": [
    {
      "cell_type": "markdown",
      "source": [
        "# Training Data"
      ],
      "metadata": {
        "id": "pVX5a4ocqRxx"
      }
    },
    {
      "cell_type": "code",
      "execution_count": null,
      "metadata": {
        "id": "AcAGElm7oiO1"
      },
      "outputs": [],
      "source": [
        "# Let's first import necessary libraries\n",
        "\n",
        "import numpy as np\n",
        "\n",
        "#Import for generating plots\n",
        "import seaborn as sns\n",
        "import matplotlib.pyplot as plt\n",
        "from sklearn.model_selection import train_test_split"
      ]
    },
    {
      "cell_type": "markdown",
      "source": [
        "Quick recap\n",
        "\n",
        "  1. Training data contains features and labels that are ℜ\n",
        "  2. Model or inference: y = Xw"
      ],
      "metadata": {
        "id": "uizoVdljq-Ni"
      }
    },
    {
      "cell_type": "code",
      "source": [
        "# Create a dataset of 100 examples with a single feature and a label\n",
        "# For this construction, we use the following three parameters:\n",
        "w0 = 4\n",
        "w1 = 3\n",
        "n = 100"
      ],
      "metadata": {
        "id": "DrXJDbxjrJ7z"
      },
      "execution_count": null,
      "outputs": []
    },
    {
      "cell_type": "code",
      "source": [
        "# Creates a column vector with 100 rows\n",
        "X = 10 * np.random.random(n, )\n",
        "X"
      ],
      "metadata": {
        "id": "_l9WVYcGrUxI",
        "outputId": "87adeaba-466a-4f0f-d72e-827a829d13c3",
        "colab": {
          "base_uri": "https://localhost:8080/"
        }
      },
      "execution_count": null,
      "outputs": [
        {
          "output_type": "execute_result",
          "data": {
            "text/plain": [
              "array([4.39927566, 1.77599057, 9.55866492, 5.67360755, 4.66444105,\n",
              "       6.56867587, 8.72915935, 4.03981645, 1.6575237 , 9.61311987,\n",
              "       2.24206554, 7.16358683, 4.13688178, 2.4322489 , 3.7097789 ,\n",
              "       5.59973672, 7.14356933, 8.61658952, 3.42525493, 9.66525628,\n",
              "       1.51545032, 2.92255085, 5.2492904 , 1.83602644, 8.60384342,\n",
              "       6.26508269, 6.31377226, 4.05951112, 1.77501979, 9.52792637,\n",
              "       7.24248005, 9.69851629, 6.03974519, 7.47295322, 7.74519085,\n",
              "       5.31292297, 4.0343231 , 5.37216367, 4.58976432, 7.24142885,\n",
              "       7.98486455, 1.31169829, 6.20706031, 5.14614377, 1.65107215,\n",
              "       2.32670043, 2.54804721, 9.37522848, 4.43621119, 6.69794637,\n",
              "       1.75571299, 3.47696536, 7.15933621, 3.55443479, 0.103681  ,\n",
              "       4.78140137, 1.99001916, 5.33375113, 0.25245233, 7.23784588,\n",
              "       1.90384646, 2.17740882, 4.27604665, 6.51817373, 3.34455411,\n",
              "       9.38856432, 8.10458676, 6.2333239 , 4.41910769, 0.17671464,\n",
              "       4.67726189, 0.14035123, 8.82508977, 5.35997187, 4.67172026,\n",
              "       6.66475767, 2.59441962, 4.21214129, 1.60115153, 3.38050029,\n",
              "       6.30651615, 7.54036431, 8.00354034, 0.73508291, 4.56545647,\n",
              "       9.12488597, 5.35539885, 3.19557479, 5.16415042, 8.17024846,\n",
              "       0.28811635, 7.51737638, 7.28656716, 2.6012348 , 8.0805572 ,\n",
              "       4.82838374, 3.13052706, 8.8994168 , 0.86399175, 4.28445678])"
            ]
          },
          "metadata": {},
          "execution_count": 3
        }
      ]
    },
    {
      "cell_type": "code",
      "source": [
        "# Obtain y = 4 + 3*x +noise\n",
        "# Noise is randomly sampled\n",
        "y = w0 + w1 * X + np.random.randn(n,)"
      ],
      "metadata": {
        "id": "cUhJcsfwr1Fl"
      },
      "execution_count": null,
      "outputs": []
    },
    {
      "cell_type": "code",
      "source": [
        "# Examining the shapes of training data for sanity check\n",
        "print(\"Shape of the training data feature matrix:\", X.shape)\n",
        "print(\"Shape of label vector:\", y.shape)"
      ],
      "metadata": {
        "id": "3BatVdM2sAkW",
        "outputId": "dce8fb09-f832-43b5-a4ae-87db299e5749",
        "colab": {
          "base_uri": "https://localhost:8080/"
        }
      },
      "execution_count": null,
      "outputs": [
        {
          "output_type": "stream",
          "name": "stdout",
          "text": [
            "Shape of the training data feature matrix: (100,)\n",
            "Shape of label vector: (100,)\n"
          ]
        }
      ]
    },
    {
      "cell_type": "code",
      "source": [
        "# Dividing the data into training and test set\n",
        "# We will set aside 20% examples for testing\n",
        "X_train, X_test, y_train, y_test = train_test_split(X, y, test_size=0.20, random_state=42)"
      ],
      "metadata": {
        "id": "yOiT99kVsSlq"
      },
      "execution_count": null,
      "outputs": []
    },
    {
      "cell_type": "code",
      "source": [
        "print(\"Shape of training feature matrix:\", X_train.shape)\n",
        "print(\"Shape of training label vector:\", y_train.shape)\n",
        "\n",
        "print(\"Shape of test feature matrix:\", X_test.shape)\n",
        "print(\"Shape of test label vector:\", y_test.shape)"
      ],
      "metadata": {
        "id": "4n4Fg7hLtCOJ",
        "outputId": "d94a621c-563c-4afa-b9ad-b184e8fc7c7d",
        "colab": {
          "base_uri": "https://localhost:8080/"
        }
      },
      "execution_count": null,
      "outputs": [
        {
          "output_type": "stream",
          "name": "stdout",
          "text": [
            "Shape of training feature matrix: (80,)\n",
            "Shape of training label vector: (80,)\n",
            "Shape of test feature matrix: (20,)\n",
            "Shape of test label vector: (20,)\n"
          ]
        }
      ]
    },
    {
      "cell_type": "code",
      "source": [
        "# Visualising the training set\n",
        "sns.set_style(\"white\")\n",
        "f = plt.figure(figsize=(8, 8))\n",
        "sns.set_context(\"notebook\", font_scale=1.5, rc={\"lines.linewidth\": 2.5})\n",
        "\n",
        "plt.plot(X_train, y_train, \"b.\")\n",
        "plt.title(\"Data Points\")\n",
        "plt.grid(True)\n",
        "plt.xlabel(\"$x_l$\", fontsize=18)\n",
        "plt.ylabel(\"$y$\", rotation=0, fontsize=18)\n",
        "plt.axis([0,10,0,40])\n",
        "\n",
        "plt.show()"
      ],
      "metadata": {
        "id": "N9BFDYaTtiAS",
        "outputId": "457e4a7b-fb2b-4bfe-8207-34a0e6642617",
        "colab": {
          "base_uri": "https://localhost:8080/",
          "height": 535
        }
      },
      "execution_count": null,
      "outputs": [
        {
          "output_type": "display_data",
          "data": {
            "text/plain": [
              "<Figure size 576x576 with 1 Axes>"
            ],
            "image/png": "[encoded data removed]"
          },
          "metadata": {}
        }
      ]
    },
    {
      "cell_type": "markdown",
      "source": [
        "We have a training set consisting a single feature so we will fit a simple linear regression model with one feature. It's form is: y = w0 + w1x1\n",
        "As discussed in the lectures, we add a special dummy feature x0 and set it to 1. We create a helper function for that"
      ],
      "metadata": {
        "id": "19M4oL6Ht8V2"
      }
    },
    {
      "cell_type": "code",
      "source": [
        "def add_dummy_feature(x):\n",
        "  '''add a dummy feature to the data set.\n",
        "  Args:\n",
        "    x : Training dataset\n",
        "  Returns:\n",
        "    Training dataset with an addition of dummy feature\n",
        "  '''\n",
        "  #np.ones(x.shape[0]) create a vector of 1's having the same number of rows as number of samples in dataset\n",
        "  return np.column_stack((np.ones(x.shape[0]), x))"
      ],
      "metadata": {
        "id": "2zzG8Jmkt9gI"
      },
      "execution_count": null,
      "outputs": []
    },
    {
      "cell_type": "code",
      "source": [
        "# Testing the above function\n",
        "train_matrix = np.array([[1,2,3], [4,5,6]]) # each feature is a 3D vector.\n",
        "train_matrix = add_dummy_feature(train_matrix)\n",
        "train_matrix"
      ],
      "metadata": {
        "id": "70B5vgYnuuyh",
        "outputId": "aaaa68a1-6d4a-411b-e974-e235e4ad0bd0",
        "colab": {
          "base_uri": "https://localhost:8080/"
        }
      },
      "execution_count": null,
      "outputs": [
        {
          "output_type": "execute_result",
          "data": {
            "text/plain": [
              "array([[1., 1., 2., 3.],\n",
              "       [1., 4., 5., 6.]])"
            ]
          },
          "metadata": {},
          "execution_count": 10
        }
      ]
    },
    {
      "cell_type": "code",
      "source": [
        "# Applying the function to X_train\n",
        "X_train = add_dummy_feature(X_train)\n",
        "X_train"
      ],
      "metadata": {
        "id": "jmPNKxEivSg9",
        "outputId": "9e7a62c4-168f-4409-b2a1-36ce4598e01b",
        "colab": {
          "base_uri": "https://localhost:8080/"
        }
      },
      "execution_count": null,
      "outputs": [
        {
          "output_type": "execute_result",
          "data": {
            "text/plain": [
              "array([[1.        , 4.78140137],\n",
              "       [1.        , 5.16415042],\n",
              "       [1.        , 6.31377226],\n",
              "       [1.        , 6.20706031],\n",
              "       [1.        , 0.17671464],\n",
              "       [1.        , 5.59973672],\n",
              "       [1.        , 7.98486455],\n",
              "       [1.        , 3.13052706],\n",
              "       [1.        , 9.61311987],\n",
              "       [1.        , 8.82508977],\n",
              "       [1.        , 7.16358683],\n",
              "       [1.        , 9.37522848],\n",
              "       [1.        , 9.12488597],\n",
              "       [1.        , 1.77501979],\n",
              "       [1.        , 2.6012348 ],\n",
              "       [1.        , 6.56867587],\n",
              "       [1.        , 8.10458676],\n",
              "       [1.        , 9.38856432],\n",
              "       [1.        , 5.31292297],\n",
              "       [1.        , 7.14356933],\n",
              "       [1.        , 6.69794637],\n",
              "       [1.        , 7.74519085],\n",
              "       [1.        , 4.03981645],\n",
              "       [1.        , 4.82838374],\n",
              "       [1.        , 4.05951112],\n",
              "       [1.        , 9.66525628],\n",
              "       [1.        , 7.54036431],\n",
              "       [1.        , 6.26508269],\n",
              "       [1.        , 4.27604665],\n",
              "       [1.        , 2.4322489 ],\n",
              "       [1.        , 8.60384342],\n",
              "       [1.        , 5.67360755],\n",
              "       [1.        , 8.61658952],\n",
              "       [1.        , 4.58976432],\n",
              "       [1.        , 1.6575237 ],\n",
              "       [1.        , 1.60115153],\n",
              "       [1.        , 8.72915935],\n",
              "       [1.        , 3.34455411],\n",
              "       [1.        , 4.0343231 ],\n",
              "       [1.        , 8.17024846],\n",
              "       [1.        , 1.99001916],\n",
              "       [1.        , 4.28445678],\n",
              "       [1.        , 0.103681  ],\n",
              "       [1.        , 5.14614377],\n",
              "       [1.        , 1.75571299],\n",
              "       [1.        , 6.2333239 ],\n",
              "       [1.        , 2.54804721],\n",
              "       [1.        , 4.41910769],\n",
              "       [1.        , 2.17740882],\n",
              "       [1.        , 8.8994168 ],\n",
              "       [1.        , 3.38050029],\n",
              "       [1.        , 1.31169829],\n",
              "       [1.        , 0.25245233],\n",
              "       [1.        , 4.43621119],\n",
              "       [1.        , 0.86399175],\n",
              "       [1.        , 5.33375113],\n",
              "       [1.        , 6.66475767],\n",
              "       [1.        , 6.03974519],\n",
              "       [1.        , 8.0805572 ],\n",
              "       [1.        , 7.23784588],\n",
              "       [1.        , 6.51817373],\n",
              "       [1.        , 4.56545647],\n",
              "       [1.        , 5.37216367],\n",
              "       [1.        , 9.52792637],\n",
              "       [1.        , 1.77599057],\n",
              "       [1.        , 7.15933621],\n",
              "       [1.        , 2.92255085],\n",
              "       [1.        , 9.55866492],\n",
              "       [1.        , 1.83602644],\n",
              "       [1.        , 3.19557479],\n",
              "       [1.        , 7.51737638],\n",
              "       [1.        , 4.67172026],\n",
              "       [1.        , 5.35539885],\n",
              "       [1.        , 8.00354034],\n",
              "       [1.        , 1.51545032],\n",
              "       [1.        , 1.90384646],\n",
              "       [1.        , 0.14035123],\n",
              "       [1.        , 3.7097789 ],\n",
              "       [1.        , 7.28656716],\n",
              "       [1.        , 3.47696536]])"
            ]
          },
          "metadata": {},
          "execution_count": 11
        }
      ]
    },
    {
      "cell_type": "markdown",
      "source": [
        "# Model"
      ],
      "metadata": {
        "id": "00l8lbJj0FAi"
      }
    },
    {
      "cell_type": "code",
      "source": [
        "def predict(X,w):\n",
        "  '''prediction of output label for a given input.\n",
        "  Args:\n",
        "    X: Feature matrix of shape (n, m+1)\n",
        "    w: Weight vector of shape (m+1, n)\n",
        "\n",
        "  returns:\n",
        "    y: Predicted label vector of shape (n,).\n",
        "  '''\n",
        "  #check to make sure the feature matric and weight vector have compatible shapes\n",
        "  assert X.shape[-1] == w.shape[0], \"X and w don't have compatible dimensions\"\n",
        "  return X @ w"
      ],
      "metadata": {
        "id": "OPa6nXFa0IEq"
      },
      "execution_count": null,
      "outputs": []
    },
    {
      "cell_type": "code",
      "source": [
        "def preprocess(X, y):\n",
        "    X_train, X_test, y_train, y_test = train_test_split(X, y, test_size=0.2, random_state=42) \n",
        "    X_train = add_dummy_feature(X_train)\n",
        "    return X_train, X_test, y_train, y_test"
      ],
      "metadata": {
        "id": "Ahoc3kRM0ORZ"
      },
      "execution_count": null,
      "outputs": []
    },
    {
      "cell_type": "code",
      "source": [
        "def generate_examples(n):\n",
        "    X = 10 * np.random.random(n, )\n",
        "    y = w0 + w1 * X\n",
        "    return preprocess(X, y)"
      ],
      "metadata": {
        "id": "Vftrl48w0PwF"
      },
      "execution_count": null,
      "outputs": []
    },
    {
      "cell_type": "code",
      "source": [
        "# Test it with the examples generated using above function\n",
        "X_train, X_test, y_train, y_test = generate_examples(100)\n",
        "y_hat =  predict (X_train, np.random.rand(2,))\n",
        "y_hat"
      ],
      "metadata": {
        "id": "Ms-sHI5u0Raa",
        "outputId": "cacdbd28-add0-4a21-d434-fe613d7b8bcf",
        "colab": {
          "base_uri": "https://localhost:8080/"
        }
      },
      "execution_count": null,
      "outputs": [
        {
          "output_type": "execute_result",
          "data": {
            "text/plain": [
              "array([3.11117961, 1.80496035, 1.52052244, 3.28590497, 1.8829792 ,\n",
              "       0.47062329, 0.52381604, 0.6134475 , 2.78467739, 2.90815489,\n",
              "       1.45597837, 3.0937567 , 1.31006375, 1.17148194, 3.1608466 ,\n",
              "       0.07739695, 0.05166752, 2.45064832, 1.21108621, 2.09253049,\n",
              "       3.64918995, 2.65228827, 0.4249691 , 0.15806539, 2.05408994,\n",
              "       3.34072816, 0.13826563, 0.48665031, 2.10144583, 1.95642468,\n",
              "       0.44117887, 2.48573429, 2.88827186, 1.13803556, 3.03450326,\n",
              "       0.34544089, 0.22359193, 3.3234503 , 1.28255395, 1.9898037 ,\n",
              "       1.63801549, 0.69232452, 3.04226994, 2.915204  , 3.30053764,\n",
              "       1.69925362, 2.46238276, 0.83557447, 3.13041657, 2.60593461,\n",
              "       2.28734966, 1.17410199, 3.37248373, 3.48942657, 0.26387391,\n",
              "       0.43447481, 2.10182257, 1.18828899, 2.20223502, 1.32833614,\n",
              "       1.08851899, 3.76873878, 3.22209352, 3.70728356, 2.07369487,\n",
              "       2.07836092, 2.7391416 , 0.35917144, 0.97852859, 3.6225094 ,\n",
              "       1.85779792, 3.18649123, 2.20157667, 3.21545426, 0.54375482,\n",
              "       2.27165958, 1.36964676, 1.11909584, 0.20247974, 2.37065255])"
            ]
          },
          "metadata": {},
          "execution_count": 15
        }
      ]
    },
    {
      "cell_type": "markdown",
      "source": [
        "# Loss"
      ],
      "metadata": {
        "id": "Ct5DQ92f0era"
      }
    },
    {
      "cell_type": "code",
      "source": [
        "def loss(X,y,w=None):\n",
        "  '''Calculates loss for a model based on known labels\n",
        "\n",
        "  Args:\n",
        "    x: Feature matrix for given inputs\n",
        "    y: Output label vector as predicted by the given model\n",
        "    w: weight vector\n",
        "  \n",
        "  Returns:\n",
        "    Loss\n",
        "  '''\n",
        "  if w is None:\n",
        "        w = np.zeros(X.shape[1])\n",
        "  e = predict(X,w) - y\n",
        "  return (1/2) * (np.transpose(e) @ e)"
      ],
      "metadata": {
        "id": "OMefkAFq0har"
      },
      "execution_count": null,
      "outputs": []
    },
    {
      "cell_type": "code",
      "source": [
        "X = np.array([[1,3,2,5],[1,9,4,7]])\n",
        "y = np.array([6,11])\n",
        "w = np.array([1,1,1,1])\n",
        "loss(X, y, w)"
      ],
      "metadata": {
        "id": "fPUs5Ksn2Vei",
        "outputId": "b761b1ee-c10d-4107-b617-bf859f7c3d47",
        "colab": {
          "base_uri": "https://localhost:8080/"
        }
      },
      "execution_count": null,
      "outputs": [
        {
          "output_type": "execute_result",
          "data": {
            "text/plain": [
              "62.5"
            ]
          },
          "metadata": {},
          "execution_count": 34
        }
      ]
    },
    {
      "cell_type": "code",
      "source": [
        "# RMSE \n",
        "def rmse(X, y):\n",
        "    return np.sqrt(2/X.shape[0] * loss(X, y))"
      ],
      "metadata": {
        "id": "cKp_xPq31DF-"
      },
      "execution_count": null,
      "outputs": []
    },
    {
      "cell_type": "code",
      "source": [
        "rmse(X_train, y_train)"
      ],
      "metadata": {
        "id": "vo_YmwNI1ynI",
        "outputId": "41b020df-1b3a-4563-8269-5c0880439430",
        "colab": {
          "base_uri": "https://localhost:8080/"
        }
      },
      "execution_count": null,
      "outputs": [
        {
          "output_type": "execute_result",
          "data": {
            "text/plain": [
              "20.122271692195536"
            ]
          },
          "metadata": {},
          "execution_count": 35
        }
      ]
    },
    {
      "cell_type": "code",
      "source": [
        "X_train, X_test, y_train, y_test = generate_examples(100)\n",
        "loss(X_train, y_train, np.array([3,4]))  #Since weight vector is (3,4), there's no loss"
      ],
      "metadata": {
        "id": "dyuTDWZ55Abn",
        "outputId": "f489e89c-aea0-4fde-e1a4-1cad680f6121",
        "colab": {
          "base_uri": "https://localhost:8080/"
        }
      },
      "execution_count": null,
      "outputs": [
        {
          "output_type": "execute_result",
          "data": {
            "text/plain": [
              "944.9076108309515"
            ]
          },
          "metadata": {},
          "execution_count": 48
        }
      ]
    },
    {
      "cell_type": "code",
      "source": [
        "# Generating a weight vector\n",
        "w = np.random.rand(2,)"
      ],
      "metadata": {
        "id": "dw5hi9wZ4UC6"
      },
      "execution_count": null,
      "outputs": []
    },
    {
      "cell_type": "code",
      "source": [
        "y_new = predict(X_train, w)\n",
        "fig, axes = plt.subplots(figsize=(8,8))\n",
        "axes.plot(X_train[:,1], y_train, c='b', label='Training')\n",
        "axes.scatter(X_train[:,1], y_new, c='g', label='Error')\n",
        "axes.vlines(X_train[:,1], y_new, y_train, colors=\"r\", label=\"loss\")"
      ],
      "metadata": {
        "id": "kayubVDa3N-K",
        "outputId": "39bc6551-9a86-4209-f218-c7626acf4805",
        "colab": {
          "base_uri": "https://localhost:8080/",
          "height": 511
        }
      },
      "execution_count": null,
      "outputs": [
        {
          "output_type": "execute_result",
          "data": {
            "text/plain": [
              "<matplotlib.collections.LineCollection at 0x7f2b87232810>"
            ]
          },
          "metadata": {},
          "execution_count": 62
        },
        {
          "output_type": "display_data",
          "data": {
            "text/plain": [
              "<Figure size 576x576 with 1 Axes>"
            ],
            "image/png": "[encoded data removed]"
          },
          "metadata": {}
        }
      ]
    },
    {
      "cell_type": "markdown",
      "source": [
        "# Optimization"
      ],
      "metadata": {
        "id": "Bg6NEnKY6CBj"
      }
    },
    {
      "cell_type": "markdown",
      "source": [
        "Normal equation \n",
        " The weight vector is estimated by matrix multiplication of pseudo-inverse of feature matrix and the label vector\n",
        " The vectorised implementation is fairly straightforward\n",
        "\n",
        "*   We make use of np.linalg.pinv for calculating pseudoinverse of the feature matrix"
      ],
      "metadata": {
        "id": "YvhGMW_J6OOb"
      }
    },
    {
      "cell_type": "code",
      "source": [
        "def normal_equation(X,y):\n",
        "  '''Estimates parameters of the linear regression model with normal equation\n",
        "  Args:\n",
        "    X: Feature matrix for given inputs\n",
        "    y: Actual label vector\n",
        "\n",
        "  Returns:\n",
        "    Weight vector\n",
        "  '''\n",
        "  return np.linalg.pinv(X) @ y"
      ],
      "metadata": {
        "id": "mvPerZ9n6GW_"
      },
      "execution_count": null,
      "outputs": []
    },
    {
      "cell_type": "code",
      "source": [
        "normal_equation(X_train, y_train)"
      ],
      "metadata": {
        "id": "5ofSCmev6fbN",
        "outputId": "84ee8805-57ae-4ad2-df58-75f663273dbb",
        "colab": {
          "base_uri": "https://localhost:8080/"
        }
      },
      "execution_count": null,
      "outputs": [
        {
          "output_type": "execute_result",
          "data": {
            "text/plain": [
              "array([4., 3.])"
            ]
          },
          "metadata": {},
          "execution_count": 65
        }
      ]
    },
    {
      "cell_type": "markdown",
      "source": [
        "Gradient Descent (GD)\n",
        "\n",
        "GD is implemented as follows:\n",
        "*   randomly initialise w to 0\n",
        "*   iterate until *convergence*:\n",
        "  *   calculate partial derivative w.r.t weight vector\n",
        "  *   calculate new values of weights\n",
        "  *   update weights to new values simultaneously\n",
        "\n",
        "we use number of epochs as a convergence criteria in this implementation"
      ],
      "metadata": {
        "id": "z83ruAOz6u7c"
      }
    },
    {
      "cell_type": "code",
      "source": [
        "# Setting a learning rate\n",
        "lr = 0.0001"
      ],
      "metadata": {
        "id": "99juuk-K6zty"
      },
      "execution_count": null,
      "outputs": []
    },
    {
      "cell_type": "code",
      "source": [
        "def calculate_gradient(X, y, w):\n",
        "  '''Calculates gradients of loss function w.r.t weight vector on training set.\n",
        "  Args:\n",
        "    X: feature matrix for training data\n",
        "    y: label vector for training data\n",
        "    w: weight vector\n",
        "\n",
        "  Returns:\n",
        "    A vector of gradients\n",
        "  '''\n",
        "  return np.transpose(X) @ (predict(X,w) - y)"
      ],
      "metadata": {
        "id": "pXEeZHag64Vv"
      },
      "execution_count": null,
      "outputs": []
    },
    {
      "cell_type": "code",
      "source": [
        "def update_weights(w, grad, lr):\n",
        "  '''Updates the weights based on the gradient of the loss function\n",
        "  Weight updates are carried out with the following formula:\n",
        "    w_new := w_old - lr*grad\n",
        "\n",
        "  Args:\n",
        "    1. w: weight vector\n",
        "    2. grad: gradient of loss w.r.t w\n",
        "    3. lr: learning rate\n",
        "  \n",
        "  Returns:\n",
        "    Updated weight vector\n",
        "  '''\n",
        "  return (w-lr*grad)"
      ],
      "metadata": {
        "id": "jxgM6UwS7Ge7"
      },
      "execution_count": null,
      "outputs": []
    },
    {
      "cell_type": "code",
      "source": [
        "# Implementing GD \n",
        "\n",
        "def gradient_descent(X:np.ndarray, y:np.ndarray, lr:float, num_epochs:int):\n",
        "  '''Estimates parameters of linear regression model through gradient descent.\n",
        "  Args:\n",
        "    X: Feature matrix for training data\n",
        "    y: label vector for training data\n",
        "    lr: learning rate\n",
        "    num_epochs: number of training steps\n",
        "\n",
        "  Returns:\n",
        "    weight vector: final weight vector\n",
        "    error vector across different iterations weight vectors across different iterations\n",
        "  '''\n",
        "\n",
        "  w_all = [] #all parameters across iterations\n",
        "  err_all = [] #all errors across iterations\n",
        "\n",
        "  #parameter vector initialised to [0,0]\n",
        "  w = np.zeros((X.shape[1]))\n",
        "\n",
        "  #gradient descent loop\n",
        "  print()\n",
        "  for i in np.arange(0, num_epochs):\n",
        "    w_all.append(w)\n",
        "\n",
        "    #calculate error due to the current weight vector: Note that here we use loss function to calculate the loss \n",
        "    err_all.append(loss(X,y,w))\n",
        "\n",
        "    #gradient calculation\n",
        "    dJdW = calculate_gradient(X, y, w)\n",
        "\n",
        "    #print stats every 100 iterations\n",
        "    if (i%100) == 0:\n",
        "      print('Iteration #: %d, loss: %4.2f' %(i, err_all[-1]))\n",
        "\n",
        "    #weight vector update\n",
        "    w = update_weights(w, dJdW, lr)\n",
        "\n",
        "  return w, err_all, w_all"
      ],
      "metadata": {
        "id": "kyBneWx17SKF"
      },
      "execution_count": null,
      "outputs": []
    },
    {
      "cell_type": "code",
      "source": [
        "def plot_learning_curves(err_all):\n",
        "  plt.plot(err_all)\n",
        "  plt.xlabel(\"iteration #\")\n",
        "  plt.ylabel(\"Loss: $J(\\mathbf{w})$\")"
      ],
      "metadata": {
        "id": "vaXOaHsQ8Et1"
      },
      "execution_count": null,
      "outputs": []
    },
    {
      "cell_type": "code",
      "source": [
        "w, err_all, w_all = gradient_descent(X_train, y_train, lr=0.0001, num_epochs=2000)\n",
        "plot_learning_curves(err_all)"
      ],
      "metadata": {
        "id": "227fYCpy8KK9"
      },
      "execution_count": null,
      "outputs": []
    },
    {
      "cell_type": "markdown",
      "source": [
        "Learning Rate and Convergence\n",
        "\n",
        "Let's vary the learning rate and observe the change in the convergence characteristics of GD\n",
        "We will use:\n",
        "*   α = {1e-6,1e-4,1e-1} to run GD for 2000 epochs each\n",
        "*   Compare the convergence characteristics"
      ],
      "metadata": {
        "id": "4wD19Ayp86g3"
      }
    },
    {
      "cell_type": "code",
      "source": [
        "w, err_all, w_all = gradient_descent(X_train, y_train, lr=1e-6, num_epochs=2000)\n",
        "plot_learning_curves(err_all)\n",
        "plt.title(\"lr=1e-6\")"
      ],
      "metadata": {
        "id": "JRGL_fzM85-5"
      },
      "execution_count": null,
      "outputs": []
    },
    {
      "cell_type": "code",
      "source": [
        "t0, t1 = 200, 100000\n",
        "def learning_schedule(t):\n",
        "  return t0/(t+t1)"
      ],
      "metadata": {
        "id": "S0HlTwSJ-jq_"
      },
      "execution_count": null,
      "outputs": []
    },
    {
      "cell_type": "code",
      "source": [
        "# Mini Batch Gradient Descent\n",
        "# The ket idea here is to perform weight updates by computing gradient on batches of small number of examples\n",
        "\n",
        "\n",
        "def mini_batch_gd(X:np.ndarray, y:np.ndarray, sum_iters:int, minibatch_size:int):\n",
        "  '''Estimates parameters of linear regression model through GD\n",
        "  Args:\n",
        "    1. X: Feature matrix for training data\n",
        "    2. y: Label vector for training data\n",
        "    3. num_iters: Number of iterations\n",
        "\n",
        "  Returns:\n",
        "    Weight vector: Final weight vector\n",
        "    Error vector across different iterations \n",
        "    Weight vectors across different iterations\n",
        "    '''\n",
        "  w_all = [] #all parameters across iterations\n",
        "  err_all = [] #error across iterations\n",
        "\n",
        "  #parameter vector initialised to [0,0]\n",
        "  w = np.zeros((X.shape[1]))\n",
        "  t = 0\n",
        "\n",
        "  for epoch in range(sum_iters):\n",
        "    shuffled_indices = np.random.permutation(X.shape[0])\n",
        "    X_shuffled = X[shuffled_indices]\n",
        "    y_shuffled = y[shuffled_indices]\n",
        "    for i in range(0, X.shape[0], minibatch_size):\n",
        "      t += 1\n",
        "      xi = X_shuffled[i:i+minibatch_size]\n",
        "      yi = y_shuffled[i:i+minibatch_size]\n",
        "      err_all.append(loss(xi,yi,w))\n",
        "\n",
        "      gradients = 2/minibatch_size * calculate_gradient(xi,yi,w)\n",
        "      lr = learning_schedule(t)\n",
        "\n",
        "      w = update_weights(w, gradients, lr)\n",
        "      w_all.append(w)\n",
        "\n",
        "    return w, err_all, w_all"
      ],
      "metadata": {
        "id": "iqpkRiQj9ETt"
      },
      "execution_count": null,
      "outputs": []
    },
    {
      "cell_type": "code",
      "source": [
        "# Testing above function\n",
        "\n",
        "minibatch_size = 10\n",
        "sum_iters = 40\n",
        "\n",
        "X_train, X_test, y_train, y_test = generate_examples(100)\n",
        "w, err_all, w_all = mini_batch_gd(X_train, y_train, sum_iters, minibatch_size)"
      ],
      "metadata": {
        "id": "FpNhIPjA9TWx"
      },
      "execution_count": null,
      "outputs": []
    },
    {
      "cell_type": "code",
      "source": [
        "plot_learning_curves(err_all)"
      ],
      "metadata": {
        "id": "SoxHIWOA_WNG",
        "outputId": "e0885f99-843d-4559-c682-df6407ceff21",
        "colab": {
          "base_uri": "https://localhost:8080/",
          "height": 298
        }
      },
      "execution_count": null,
      "outputs": [
        {
          "output_type": "display_data",
          "data": {
            "text/plain": [
              "<Figure size 432x288 with 1 Axes>"
            ],
            "image/png": "[encoded data removed]"
          },
          "metadata": {}
        }
      ]
    },
    {
      "cell_type": "code",
      "source": [
        "#Stochastic Gradient Descent\n",
        "# The key here is to perform weight updates by computing gradient on one example at a time\n",
        "def sgd(X:np.ndarray, y:np.ndarray, num_epochs:int):\n",
        "  '''Estimates parameters of linear regression model through gradient descent\n",
        " \n",
        "  Args:\n",
        "    1. X: Feature matrix for training data\n",
        "    2. y: Label vector for training data\n",
        "    3. num_epochs: Number of epochs\n",
        "  \n",
        "  Returns:\n",
        "    Weight vector: Final weight vector\n",
        "    Error vector across different iterations\n",
        "    Weight vectors across different iterations\n",
        "  '''\n",
        "  w_all = [] # all paramters across iterations\n",
        "  err_all = [] # error across iterations\n",
        "\n",
        "  # Parameter vector intitialised to [0,0]\n",
        "  w = np.zeros((X.shape[1]))\n",
        "  for epoch in range(num_epochs):\n",
        "    for i in range(X.shape[0]):\n",
        "      random_index = np.random.randint(X.shape[0])\n",
        "      xi = X[random_index:random_index + 1]\n",
        "      yi = y[random_index:random_index + 1]\n",
        "      err_all.append(loss(xi, yi, w))\n",
        "\n",
        "      gradients = 2*calculate_gradient(xi,yi,w)\n",
        "      lr = learning_schedule(epoch * X.shape[0] + i)\n",
        "\n",
        "      w = update_weights(w, gradients, lr)\n",
        "      w_all.append(w)\n",
        "  return w, err_all, w_all\n"
      ],
      "metadata": {
        "id": "s-W-QzlZAstk"
      },
      "execution_count": null,
      "outputs": []
    },
    {
      "cell_type": "code",
      "source": [
        "w, err_all, w_all = sgd(X_train, y_train, 10)\n",
        "plot_learning_curves(err_all)"
      ],
      "metadata": {
        "id": "aIQ-3hvaCtdk",
        "outputId": "85d08d04-c1b1-4a34-9dd1-df315ac7552c",
        "colab": {
          "base_uri": "https://localhost:8080/",
          "height": 298
        }
      },
      "execution_count": null,
      "outputs": [
        {
          "output_type": "display_data",
          "data": {
            "text/plain": [
              "<Figure size 432x288 with 1 Axes>"
            ],
            "image/png": "[encoded data removed]"
          },
          "metadata": {}
        }
      ]
    }
  ]
}