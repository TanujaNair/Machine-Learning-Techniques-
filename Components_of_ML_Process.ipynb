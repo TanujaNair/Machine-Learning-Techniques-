{
  "nbformat": 4,
  "nbformat_minor": 0,
  "metadata": {
    "colab": {
      "name": "Components of ML Process.ipynb",
      "provenance": []
    },
    "kernelspec": {
      "name": "python3",
      "display_name": "Python 3"
    },
    "language_info": {
      "name": "python"
    }
  },
  "cells": [
    {
      "cell_type": "markdown",
      "source": [
        "# Training Data"
      ],
      "metadata": {
        "id": "pVX5a4ocqRxx"
      }
    },
    {
      "cell_type": "code",
      "execution_count": 1,
      "metadata": {
        "id": "AcAGElm7oiO1"
      },
      "outputs": [],
      "source": [
        "# Let's first import necessary libraries\n",
        "\n",
        "import numpy as np\n",
        "\n",
        "#Import for generating plots\n",
        "import seaborn as sns\n",
        "import matplotlib.pyplot as plt\n",
        "from sklearn.model_selection import train_test_split"
      ]
    },
    {
      "cell_type": "markdown",
      "source": [
        "Quick recap\n",
        "\n",
        "  1. Training data contains features and labels that are ℜ\n",
        "  2. Model or inference: y = Xw"
      ],
      "metadata": {
        "id": "uizoVdljq-Ni"
      }
    },
    {
      "cell_type": "code",
      "source": [
        "# Create a dataset of 100 examples with a single feature and a label\n",
        "# For this construction, we use the following three parameters:\n",
        "w0 = 4\n",
        "w1 = 3\n",
        "n = 100"
      ],
      "metadata": {
        "id": "DrXJDbxjrJ7z"
      },
      "execution_count": 2,
      "outputs": []
    },
    {
      "cell_type": "code",
      "source": [
        "# Creates a column vector with 100 rows\n",
        "X = 10 * np.random.random(n, )\n",
        "X"
      ],
      "metadata": {
        "id": "_l9WVYcGrUxI",
        "outputId": "19e61b5c-9816-495a-900d-d64ce160a9a0",
        "colab": {
          "base_uri": "https://localhost:8080/"
        }
      },
      "execution_count": 3,
      "outputs": [
        {
          "output_type": "execute_result",
          "data": {
            "text/plain": [
              "array([8.77581844, 4.39537829, 1.85552087, 3.21273373, 1.57806581,\n",
              "       6.10960412, 6.18740909, 6.48980051, 2.18976366, 2.72909123,\n",
              "       4.93173303, 0.22953874, 7.25029838, 5.88172402, 6.70752024,\n",
              "       9.58637138, 1.6160015 , 5.27546346, 3.87250681, 1.32768355,\n",
              "       1.02486564, 6.01944575, 8.70112042, 2.97906737, 4.42697041,\n",
              "       2.98430218, 7.48290348, 0.22682054, 7.69158892, 9.8635021 ,\n",
              "       4.4226394 , 0.56534005, 1.70786822, 8.01968522, 9.76853277,\n",
              "       4.9538356 , 7.05706771, 6.08932293, 4.65141964, 5.34512477,\n",
              "       1.5338252 , 3.43456282, 2.0979579 , 6.38486216, 6.47015571,\n",
              "       7.39451494, 0.02409203, 6.00536028, 7.06662029, 4.40083076,\n",
              "       8.59139601, 2.21323575, 2.15842915, 5.59818296, 3.09410991,\n",
              "       4.13107   , 2.55792971, 7.46429735, 2.74401953, 6.4119779 ,\n",
              "       7.5752841 , 3.09911651, 4.7772819 , 1.61391886, 6.08455333,\n",
              "       0.42155366, 2.31619777, 8.12579395, 6.4142961 , 1.91620704,\n",
              "       9.46683372, 0.93623735, 2.01569938, 6.74837782, 9.76187753,\n",
              "       1.91682097, 0.27001006, 7.35712997, 6.43603005, 6.95634431,\n",
              "       3.29949911, 6.39070178, 9.29274374, 4.68838847, 3.71198969,\n",
              "       4.18583709, 9.93309361, 5.65271773, 1.23195916, 3.57067101,\n",
              "       8.129424  , 3.61738967, 4.50093165, 6.98423901, 1.85343046,\n",
              "       5.97531322, 0.24711055, 5.58865078, 1.3892204 , 8.02260783])"
            ]
          },
          "metadata": {},
          "execution_count": 3
        }
      ]
    },
    {
      "cell_type": "code",
      "source": [
        "# Obtain y = 4 + 3*x +noise\n",
        "# Noise is randomly sampled\n",
        "y = w0 + w1 * X + np.random.randn(n,)"
      ],
      "metadata": {
        "id": "cUhJcsfwr1Fl"
      },
      "execution_count": 4,
      "outputs": []
    },
    {
      "cell_type": "code",
      "source": [
        "# Examining the shapes of training data for sanity check\n",
        "print(\"Shape of the training data feature matrix:\", X.shape)\n",
        "print(\"Shape of label vector:\", y.shape)"
      ],
      "metadata": {
        "id": "3BatVdM2sAkW",
        "outputId": "3dcedd9d-6a5f-4185-c7c4-8e09063585f9",
        "colab": {
          "base_uri": "https://localhost:8080/"
        }
      },
      "execution_count": 5,
      "outputs": [
        {
          "output_type": "stream",
          "name": "stdout",
          "text": [
            "Shape of the training data feature matrix: (100,)\n",
            "Shape of label vector: (100,)\n"
          ]
        }
      ]
    },
    {
      "cell_type": "code",
      "source": [
        "# Dividing the data into training and test set\n",
        "# We will set aside 20% examples for testing\n",
        "X_train, X_test, y_train, y_test = train_test_split(X, y, test_size=0.20, random_state=42)"
      ],
      "metadata": {
        "id": "yOiT99kVsSlq"
      },
      "execution_count": 6,
      "outputs": []
    },
    {
      "cell_type": "code",
      "source": [
        "print(\"Shape of training feature matrix:\", X_train.shape)\n",
        "print(\"Shape of training label vector:\", y_train.shape)\n",
        "\n",
        "print(\"Shape of test feature matrix:\", X_test.shape)\n",
        "print(\"Shape of test label vector:\", y_test.shape)"
      ],
      "metadata": {
        "id": "4n4Fg7hLtCOJ",
        "outputId": "01a45de7-c2ff-48a6-c9a4-830c3bb640ec",
        "colab": {
          "base_uri": "https://localhost:8080/"
        }
      },
      "execution_count": 7,
      "outputs": [
        {
          "output_type": "stream",
          "name": "stdout",
          "text": [
            "Shape of training feature matrix: (80,)\n",
            "Shape of training label vector: (80,)\n",
            "Shape of test feature matrix: (20,)\n",
            "Shape of test label vector: (20,)\n"
          ]
        }
      ]
    },
    {
      "cell_type": "code",
      "source": [
        "# Visualising the training set\n",
        "sns.set_style(\"white\")\n",
        "f = plt.figure(figsize=(8, 8))\n",
        "sns.set_context(\"notebook\", font_scale=1.5, rc={\"lines.linewidth\": 2.5})\n",
        "\n",
        "plt.plot(X_train, y_train, \"b.\")\n",
        "plt.title(\"Data Points\")\n",
        "plt.grid(True)\n",
        "plt.xlabel(\"$x_l$\", fontsize=18)\n",
        "plt.ylabel(\"$y$\", rotation=0, fontsize=18)\n",
        "plt.axis([0,10,0,40])\n",
        "\n",
        "plt.show()"
      ],
      "metadata": {
        "id": "N9BFDYaTtiAS",
        "outputId": "b0700404-0659-49b6-82bd-5f705d61190e",
        "colab": {
          "base_uri": "https://localhost:8080/",
          "height": 54
        }
      },
      "execution_count": 8,
      "outputs": [
        {
          "output_type": "display_data",
          "data": {
            "text/plain": [
              "<Figure size 576x576 with 1 Axes>"
            ],
            "image/png": "[encoded data removed]"
          },
          "metadata": {}
        }
      ]
    },
    {
      "cell_type": "markdown",
      "source": [
        "We have a training set consisting a single feature so we will fit a simple linear regression model with one feature. It's form is: y = w0 + w1x1\n",
        "As discussed in the lectures, we add a special dummy feature x0 and set it to 1. We create a helper function for that"
      ],
      "metadata": {
        "id": "19M4oL6Ht8V2"
      }
    },
    {
      "cell_type": "code",
      "source": [
        "def add_dummy_feature(x):\n",
        "  '''add a dummy feature to the data set.\n",
        "  Args:\n",
        "    x : Training dataset\n",
        "  Returns:\n",
        "    Training dataset with an addition of dummy feature\n",
        "  '''\n",
        "  #np.ones(x.shape[0]) create a vector of 1's having the same number of rows as number of samples in dataset\n",
        "  return np.column_stack((np.ones(x.shape[0]), x))"
      ],
      "metadata": {
        "id": "2zzG8Jmkt9gI"
      },
      "execution_count": 9,
      "outputs": []
    },
    {
      "cell_type": "code",
      "source": [
        "# Testing the above function\n",
        "train_matrix = np.array([[1,2,3], [4,5,6]]) # each feature is a 3D vector.\n",
        "train_matrix = add_dummy_feature(train_matrix)\n",
        "train_matrix"
      ],
      "metadata": {
        "id": "70B5vgYnuuyh",
        "outputId": "2c20b893-1e67-4874-d6fe-f450fb321845",
        "colab": {
          "base_uri": "https://localhost:8080/"
        }
      },
      "execution_count": 10,
      "outputs": [
        {
          "output_type": "execute_result",
          "data": {
            "text/plain": [
              "array([[1., 1., 2., 3.],\n",
              "       [1., 4., 5., 6.]])"
            ]
          },
          "metadata": {},
          "execution_count": 10
        }
      ]
    },
    {
      "cell_type": "code",
      "source": [
        "# Applying the function to X_train\n",
        "X_train = add_dummy_feature(X_train)\n",
        "X_train"
      ],
      "metadata": {
        "id": "jmPNKxEivSg9",
        "outputId": "a265958e-0d74-47cd-a93e-957fd0ce06c4",
        "colab": {
          "base_uri": "https://localhost:8080/"
        }
      },
      "execution_count": 11,
      "outputs": [
        {
          "output_type": "execute_result",
          "data": {
            "text/plain": [
              "array([[1.        , 4.13107   ],\n",
              "       [1.        , 1.23195916],\n",
              "       [1.        , 7.48290348],\n",
              "       [1.        , 2.0979579 ],\n",
              "       [1.        , 1.91620704],\n",
              "       [1.        , 9.58637138],\n",
              "       [1.        , 1.5338252 ],\n",
              "       [1.        , 0.24711055],\n",
              "       [1.        , 2.72909123],\n",
              "       [1.        , 2.01569938],\n",
              "       [1.        , 0.22953874],\n",
              "       [1.        , 6.00536028],\n",
              "       [1.        , 4.18583709],\n",
              "       [1.        , 7.69158892],\n",
              "       [1.        , 6.98423901],\n",
              "       [1.        , 6.10960412],\n",
              "       [1.        , 2.31619777],\n",
              "       [1.        , 0.42155366],\n",
              "       [1.        , 4.9538356 ],\n",
              "       [1.        , 1.6160015 ],\n",
              "       [1.        , 4.40083076],\n",
              "       [1.        , 9.76853277],\n",
              "       [1.        , 6.48980051],\n",
              "       [1.        , 5.97531322],\n",
              "       [1.        , 0.22682054],\n",
              "       [1.        , 1.32768355],\n",
              "       [1.        , 6.39070178],\n",
              "       [1.        , 2.98430218],\n",
              "       [1.        , 4.7772819 ],\n",
              "       [1.        , 5.88172402],\n",
              "       [1.        , 4.42697041],\n",
              "       [1.        , 3.21273373],\n",
              "       [1.        , 5.27546346],\n",
              "       [1.        , 4.65141964],\n",
              "       [1.        , 2.18976366],\n",
              "       [1.        , 6.43603005],\n",
              "       [1.        , 6.18740909],\n",
              "       [1.        , 6.08455333],\n",
              "       [1.        , 7.05706771],\n",
              "       [1.        , 3.57067101],\n",
              "       [1.        , 2.55792971],\n",
              "       [1.        , 8.02260783],\n",
              "       [1.        , 3.09410991],\n",
              "       [1.        , 6.38486216],\n",
              "       [1.        , 8.59139601],\n",
              "       [1.        , 8.12579395],\n",
              "       [1.        , 0.02409203],\n",
              "       [1.        , 6.4142961 ],\n",
              "       [1.        , 3.09911651],\n",
              "       [1.        , 5.58865078],\n",
              "       [1.        , 6.95634431],\n",
              "       [1.        , 3.43456282],\n",
              "       [1.        , 2.74401953],\n",
              "       [1.        , 7.06662029],\n",
              "       [1.        , 1.3892204 ],\n",
              "       [1.        , 7.46429735],\n",
              "       [1.        , 1.91682097],\n",
              "       [1.        , 1.70786822],\n",
              "       [1.        , 1.85343046],\n",
              "       [1.        , 6.4119779 ],\n",
              "       [1.        , 1.61391886],\n",
              "       [1.        , 3.71198969],\n",
              "       [1.        , 6.08932293],\n",
              "       [1.        , 9.8635021 ],\n",
              "       [1.        , 4.39537829],\n",
              "       [1.        , 2.15842915],\n",
              "       [1.        , 6.01944575],\n",
              "       [1.        , 1.85552087],\n",
              "       [1.        , 2.97906737],\n",
              "       [1.        , 5.65271773],\n",
              "       [1.        , 3.61738967],\n",
              "       [1.        , 9.76187753],\n",
              "       [1.        , 9.93309361],\n",
              "       [1.        , 9.29274374],\n",
              "       [1.        , 1.02486564],\n",
              "       [1.        , 7.5752841 ],\n",
              "       [1.        , 0.93623735],\n",
              "       [1.        , 6.70752024],\n",
              "       [1.        , 4.50093165],\n",
              "       [1.        , 2.21323575]])"
            ]
          },
          "metadata": {},
          "execution_count": 11
        }
      ]
    },
    {
      "cell_type": "markdown",
      "source": [
        "# Model"
      ],
      "metadata": {
        "id": "00l8lbJj0FAi"
      }
    },
    {
      "cell_type": "code",
      "source": [
        "def predict(X,w):\n",
        "  '''prediction of output label for a given input.\n",
        "  Args:\n",
        "    X: Feature matrix of shape (n, m+1)\n",
        "    w: Weight vector of shape (m+1, n)\n",
        "\n",
        "  returns:\n",
        "    y: Predicted label vector of shape (n,).\n",
        "  '''\n",
        "  #check to make sure the feature matric and weight vector have compatible shapes\n",
        "  assert X.shape[-1] == w.shape[0], \"X and w don't have compatible dimensions\"\n",
        "  return X @ w"
      ],
      "metadata": {
        "id": "OPa6nXFa0IEq"
      },
      "execution_count": 12,
      "outputs": []
    },
    {
      "cell_type": "code",
      "source": [
        "def preprocess(X, y):\n",
        "    X_train, X_test, y_train, y_test = train_test_split(X, y, test_size=0.2, random_state=42) \n",
        "    X_train = add_dummy_feature(X_train)\n",
        "    return X_train, X_test, y_train, y_test"
      ],
      "metadata": {
        "id": "Ahoc3kRM0ORZ"
      },
      "execution_count": 13,
      "outputs": []
    },
    {
      "cell_type": "code",
      "source": [
        "def generate_examples(n):\n",
        "    X = 10 * np.random.random(n, )\n",
        "    y = w0 + w1 * X\n",
        "    return preprocess(X, y)"
      ],
      "metadata": {
        "id": "Vftrl48w0PwF"
      },
      "execution_count": 14,
      "outputs": []
    },
    {
      "cell_type": "code",
      "source": [
        "# Test it with the examples generated using above function\n",
        "X_train, X_test, y_train, y_test = generate_examples(100)\n",
        "y_hat =  predict (X_train, np.random.rand(2,))\n",
        "y_hat"
      ],
      "metadata": {
        "id": "Ms-sHI5u0Raa",
        "outputId": "fa8cc0a3-7f49-435a-927a-5bc553752e98",
        "colab": {
          "base_uri": "https://localhost:8080/"
        }
      },
      "execution_count": 15,
      "outputs": [
        {
          "output_type": "execute_result",
          "data": {
            "text/plain": [
              "array([1.07989253, 1.64582022, 2.85940666, 2.15750017, 1.29430777,\n",
              "       3.88559986, 3.77942966, 2.63136718, 1.56215327, 3.96658925,\n",
              "       4.69263919, 3.77689894, 4.83006925, 2.30849675, 3.62043699,\n",
              "       5.04304367, 0.7002584 , 1.34018314, 3.31037592, 0.88442858,\n",
              "       1.41626622, 1.69066465, 0.70829551, 2.19917138, 2.35447729,\n",
              "       1.93630902, 2.49340004, 4.94595832, 1.07666804, 2.14210312,\n",
              "       3.77718104, 4.10271519, 4.33597891, 2.26669237, 1.72159525,\n",
              "       1.446197  , 2.82810565, 1.58279214, 1.37553043, 4.4573853 ,\n",
              "       1.12507792, 3.00757443, 4.08669045, 3.50274022, 3.69439161,\n",
              "       2.22824936, 3.52195017, 0.88763713, 5.13927241, 1.35565474,\n",
              "       0.94989665, 2.42875278, 4.77831916, 3.60128943, 4.53916884,\n",
              "       2.36402519, 2.11983553, 1.50906652, 3.68580602, 1.69084254,\n",
              "       3.9538013 , 4.85232884, 2.62285915, 4.03640961, 1.55825142,\n",
              "       1.42468098, 3.86750456, 3.08390029, 1.29838735, 2.53909525,\n",
              "       2.50819747, 2.32199461, 1.85185628, 4.67352535, 5.41236105,\n",
              "       5.42722031, 4.04654884, 2.1061835 , 2.19353712, 2.59117097])"
            ]
          },
          "metadata": {},
          "execution_count": 15
        }
      ]
    },
    {
      "cell_type": "markdown",
      "source": [
        "# Loss"
      ],
      "metadata": {
        "id": "Ct5DQ92f0era"
      }
    },
    {
      "cell_type": "code",
      "source": [
        "def loss(X,y,w=None):\n",
        "  '''Calculates loss for a model based on known labels\n",
        "\n",
        "  Args:\n",
        "    x: Feature matrix for given inputs\n",
        "    y: Output label vector as predicted by the given model\n",
        "    w: weight vector\n",
        "  \n",
        "  Returns:\n",
        "    Loss\n",
        "  '''\n",
        "  if w is None:\n",
        "        w = np.zeros(X.shape[1])\n",
        "  e = predict(X,w) - y\n",
        "  return (1/2) * (np.transpose(e) @ e)"
      ],
      "metadata": {
        "id": "OMefkAFq0har"
      },
      "execution_count": 16,
      "outputs": []
    },
    {
      "cell_type": "code",
      "source": [
        "X = np.array([[1,3,2,5],[1,9,4,7]])\n",
        "y = np.array([6,11])\n",
        "w = np.array([1,1,1,1])\n",
        "loss(X, y, w)"
      ],
      "metadata": {
        "id": "fPUs5Ksn2Vei",
        "outputId": "5edd3ab0-dd3d-4830-ac90-c2073336eaa3",
        "colab": {
          "base_uri": "https://localhost:8080/"
        }
      },
      "execution_count": 17,
      "outputs": [
        {
          "output_type": "execute_result",
          "data": {
            "text/plain": [
              "62.5"
            ]
          },
          "metadata": {},
          "execution_count": 17
        }
      ]
    },
    {
      "cell_type": "code",
      "source": [
        "# RMSE \n",
        "def rmse(X, y):\n",
        "    return np.sqrt(2/X.shape[0] * loss(X, y))"
      ],
      "metadata": {
        "id": "cKp_xPq31DF-"
      },
      "execution_count": 18,
      "outputs": []
    },
    {
      "cell_type": "code",
      "source": [
        "rmse(X_train, y_train)"
      ],
      "metadata": {
        "id": "vo_YmwNI1ynI",
        "outputId": "eaa168ce-1bab-406d-e1bf-c3ed62d61d5e",
        "colab": {
          "base_uri": "https://localhost:8080/"
        }
      },
      "execution_count": 19,
      "outputs": [
        {
          "output_type": "execute_result",
          "data": {
            "text/plain": [
              "19.299111139887305"
            ]
          },
          "metadata": {},
          "execution_count": 19
        }
      ]
    },
    {
      "cell_type": "code",
      "source": [
        "X_train, X_test, y_train, y_test = generate_examples(100)\n",
        "loss(X_train, y_train, np.array([3,4]))  #Since weight vector is (3,4), there's no loss"
      ],
      "metadata": {
        "id": "dyuTDWZ55Abn",
        "outputId": "c7bc9bdc-7ebb-4b82-dfe1-fa20131ce2a4",
        "colab": {
          "base_uri": "https://localhost:8080/"
        }
      },
      "execution_count": 20,
      "outputs": [
        {
          "output_type": "execute_result",
          "data": {
            "text/plain": [
              "1067.9069718286978"
            ]
          },
          "metadata": {},
          "execution_count": 20
        }
      ]
    },
    {
      "cell_type": "code",
      "source": [
        "# Generating a weight vector\n",
        "w = np.random.rand(2,)"
      ],
      "metadata": {
        "id": "dw5hi9wZ4UC6"
      },
      "execution_count": 21,
      "outputs": []
    },
    {
      "cell_type": "code",
      "source": [
        "y_new = predict(X_train, w)\n",
        "fig, axes = plt.subplots(figsize=(8,8))\n",
        "axes.plot(X_train[:,1], y_train, c='b', label='Training')\n",
        "axes.scatter(X_train[:,1], y_new, c='g', label='Error')\n",
        "axes.vlines(X_train[:,1], y_new, y_train, colors=\"r\", label=\"loss\")"
      ],
      "metadata": {
        "id": "kayubVDa3N-K",
        "outputId": "eb85b860-81a3-4880-b35b-2907a372c64e",
        "colab": {
          "base_uri": "https://localhost:8080/",
          "height": 510
        }
      },
      "execution_count": 22,
      "outputs": [
        {
          "output_type": "execute_result",
          "data": {
            "text/plain": [
              "<matplotlib.collections.LineCollection at 0x7f35da0432d0>"
            ]
          },
          "metadata": {},
          "execution_count": 22
        },
        {
          "output_type": "display_data",
          "data": {
            "text/plain": [
              "<Figure size 576x576 with 1 Axes>"
            ],
            "image/png": "[encoded data removed]"
          },
          "metadata": {}
        }
      ]
    },
    {
      "cell_type": "markdown",
      "source": [
        "# Optimization"
      ],
      "metadata": {
        "id": "Bg6NEnKY6CBj"
      }
    },
    {
      "cell_type": "markdown",
      "source": [
        "Normal equation \n",
        " The weight vector is estimated by matrix multiplication of pseudo-inverse of feature matrix and the label vector\n",
        " The vectorised implementation is fairly straightforward\n",
        "\n",
        "*   We make use of np.linalg.pinv for calculating pseudoinverse of the feature matrix"
      ],
      "metadata": {
        "id": "YvhGMW_J6OOb"
      }
    },
    {
      "cell_type": "code",
      "source": [
        "def normal_equation(X,y):\n",
        "  '''Estimates parameters of the linear regression model with normal equation\n",
        "  Args:\n",
        "    X: Feature matrix for given inputs\n",
        "    y: Actual label vector\n",
        "\n",
        "  Returns:\n",
        "    Weight vector\n",
        "  '''\n",
        "  return np.linalg.pinv(X) @ y"
      ],
      "metadata": {
        "id": "mvPerZ9n6GW_"
      },
      "execution_count": 23,
      "outputs": []
    },
    {
      "cell_type": "code",
      "source": [
        "normal_equation(X_train, y_train)"
      ],
      "metadata": {
        "id": "5ofSCmev6fbN",
        "outputId": "6c359544-626f-4671-b5dd-44750e5a6d7a",
        "colab": {
          "base_uri": "https://localhost:8080/"
        }
      },
      "execution_count": 24,
      "outputs": [
        {
          "output_type": "execute_result",
          "data": {
            "text/plain": [
              "array([4., 3.])"
            ]
          },
          "metadata": {},
          "execution_count": 24
        }
      ]
    },
    {
      "cell_type": "markdown",
      "source": [
        "Gradient Descent (GD)\n",
        "\n",
        "GD is implemented as follows:\n",
        "*   randomly initialise w to 0\n",
        "*   iterate until *convergence*:\n",
        "  *   calculate partial derivative w.r.t weight vector\n",
        "  *   calculate new values of weights\n",
        "  *   update weights to new values simultaneously\n",
        "\n",
        "we use number of epochs as a convergence criteria in this implementation"
      ],
      "metadata": {
        "id": "z83ruAOz6u7c"
      }
    },
    {
      "cell_type": "code",
      "source": [
        "# Setting a learning rate\n",
        "lr = 0.0001"
      ],
      "metadata": {
        "id": "99juuk-K6zty"
      },
      "execution_count": 25,
      "outputs": []
    },
    {
      "cell_type": "code",
      "source": [
        "def calculate_gradient(X, y, w):\n",
        "  '''Calculates gradients of loss function w.r.t weight vector on training set.\n",
        "  Args:\n",
        "    X: feature matrix for training data\n",
        "    y: label vector for training data\n",
        "    w: weight vector\n",
        "\n",
        "  Returns:\n",
        "    A vector of gradients\n",
        "  '''\n",
        "  return np.transpose(X) @ (predict(X,w) - y)"
      ],
      "metadata": {
        "id": "pXEeZHag64Vv"
      },
      "execution_count": 26,
      "outputs": []
    },
    {
      "cell_type": "code",
      "source": [
        "def update_weights(w, grad, lr):\n",
        "  '''Updates the weights based on the gradient of the loss function\n",
        "  Weight updates are carried out with the following formula:\n",
        "    w_new := w_old - lr*grad\n",
        "\n",
        "  Args:\n",
        "    1. w: weight vector\n",
        "    2. grad: gradient of loss w.r.t w\n",
        "    3. lr: learning rate\n",
        "  \n",
        "  Returns:\n",
        "    Updated weight vector\n",
        "  '''\n",
        "  return (w-lr*grad)"
      ],
      "metadata": {
        "id": "jxgM6UwS7Ge7"
      },
      "execution_count": 27,
      "outputs": []
    },
    {
      "cell_type": "code",
      "source": [
        "# Implementing GD \n",
        "\n",
        "def gradient_descent(X:np.ndarray, y:np.ndarray, lr:float, num_epochs:int):\n",
        "  '''Estimates parameters of linear regression model through gradient descent.\n",
        "  Args:\n",
        "    X: Feature matrix for training data\n",
        "    y: label vector for training data\n",
        "    lr: learning rate\n",
        "    num_epochs: number of training steps\n",
        "\n",
        "  Returns:\n",
        "    weight vector: final weight vector\n",
        "    error vector across different iterations weight vectors across different iterations\n",
        "  '''\n",
        "\n",
        "  w_all = [] #all parameters across iterations\n",
        "  err_all = [] #all errors across iterations\n",
        "\n",
        "  #parameter vector initialised to [0,0]\n",
        "  w = np.zeros((X.shape[1]))\n",
        "\n",
        "  #gradient descent loop\n",
        "  print()\n",
        "  for i in np.arange(0, num_epochs):\n",
        "    w_all.append(w)\n",
        "\n",
        "    #calculate error due to the current weight vector: Note that here we use loss function to calculate the loss \n",
        "    err_all.append(loss(X,y,w))\n",
        "\n",
        "    #gradient calculation\n",
        "    dJdW = calculate_gradient(X, y, w)\n",
        "\n",
        "    #print stats every 100 iterations\n",
        "    if (i%100) == 0:\n",
        "      print('Iteration #: %d, loss: %4.2f' %(i, err_all[-1]))\n",
        "\n",
        "    #weight vector update\n",
        "    w = update_weights(w, dJdW, lr)\n",
        "\n",
        "  return w, err_all, w_all"
      ],
      "metadata": {
        "id": "kyBneWx17SKF"
      },
      "execution_count": 28,
      "outputs": []
    },
    {
      "cell_type": "code",
      "source": [
        "def plot_learning_curves(err_all):\n",
        "  plt.plot(err_all)\n",
        "  plt.xlabel(\"iteration #\")\n",
        "  plt.ylabel(\"Loss: $J(\\mathbf{w})$\")"
      ],
      "metadata": {
        "id": "vaXOaHsQ8Et1"
      },
      "execution_count": 29,
      "outputs": []
    },
    {
      "cell_type": "code",
      "source": [
        "w, err_all, w_all = gradient_descent(X_train, y_train, lr=0.0001, num_epochs=2000)\n",
        "plot_learning_curves(err_all)"
      ],
      "metadata": {
        "id": "227fYCpy8KK9",
        "colab": {
          "base_uri": "https://localhost:8080/",
          "height": 411
        },
        "outputId": "537e3303-1fb9-4dd7-96d7-64727a6e9264"
      },
      "execution_count": 30,
      "outputs": [
        {
          "output_type": "stream",
          "name": "stdout",
          "text": [
            "\n",
            "Iteration #: 0, loss: 18565.06\n",
            "Iteration #: 100, loss: 84.45\n",
            "Iteration #: 200, loss: 56.16\n",
            "Iteration #: 300, loss: 37.34\n",
            "Iteration #: 400, loss: 24.83\n",
            "Iteration #: 500, loss: 16.51\n",
            "Iteration #: 600, loss: 10.98\n",
            "Iteration #: 700, loss: 7.30\n",
            "Iteration #: 800, loss: 4.86\n",
            "Iteration #: 900, loss: 3.23\n",
            "Iteration #: 1000, loss: 2.15\n",
            "Iteration #: 1100, loss: 1.43\n",
            "Iteration #: 1200, loss: 0.95\n",
            "Iteration #: 1300, loss: 0.63\n",
            "Iteration #: 1400, loss: 0.42\n",
            "Iteration #: 1500, loss: 0.28\n",
            "Iteration #: 1600, loss: 0.19\n",
            "Iteration #: 1700, loss: 0.12\n",
            "Iteration #: 1800, loss: 0.08\n",
            "Iteration #: 1900, loss: 0.05\n"
          ]
        },
        {
          "output_type": "display_data",
          "data": {
            "text/plain": [
              "<Figure size 432x288 with 1 Axes>"
            ],
            "image/png": "[encoded data removed]"
          },
          "metadata": {}
        }
      ]
    },
    {
      "cell_type": "markdown",
      "source": [
        "Learning Rate and Convergence\n",
        "\n",
        "Let's vary the learning rate and observe the change in the convergence characteristics of GD\n",
        "We will use:\n",
        "*   α = {1e-6,1e-4,1e-1} to run GD for 2000 epochs each\n",
        "*   Compare the convergence characteristics"
      ],
      "metadata": {
        "id": "4wD19Ayp86g3"
      }
    },
    {
      "cell_type": "code",
      "source": [
        "w, err_all, w_all = gradient_descent(X_train, y_train, lr=1e-6, num_epochs=2000)\n",
        "plot_learning_curves(err_all)\n",
        "plt.title(\"lr=1e-6\")"
      ],
      "metadata": {
        "id": "JRGL_fzM85-5",
        "colab": {
          "base_uri": "https://localhost:8080/",
          "height": 428
        },
        "outputId": "c081afb7-795c-4170-cf62-e0c0795184a0"
      },
      "execution_count": 31,
      "outputs": [
        {
          "output_type": "stream",
          "name": "stdout",
          "text": [
            "\n",
            "Iteration #: 0, loss: 18565.06\n",
            "Iteration #: 100, loss: 10355.68\n",
            "Iteration #: 200, loss: 5801.00\n",
            "Iteration #: 300, loss: 3273.89\n",
            "Iteration #: 400, loss: 1871.66\n",
            "Iteration #: 500, loss: 1093.49\n",
            "Iteration #: 600, loss: 661.55\n",
            "Iteration #: 700, loss: 421.69\n",
            "Iteration #: 800, loss: 288.40\n",
            "Iteration #: 900, loss: 214.23\n",
            "Iteration #: 1000, loss: 172.86\n",
            "Iteration #: 1100, loss: 149.69\n",
            "Iteration #: 1200, loss: 136.62\n",
            "Iteration #: 1300, loss: 129.15\n",
            "Iteration #: 1400, loss: 124.78\n",
            "Iteration #: 1500, loss: 122.15\n",
            "Iteration #: 1600, loss: 120.47\n",
            "Iteration #: 1700, loss: 119.32\n",
            "Iteration #: 1800, loss: 118.48\n",
            "Iteration #: 1900, loss: 117.79\n"
          ]
        },
        {
          "output_type": "execute_result",
          "data": {
            "text/plain": [
              "Text(0.5, 1.0, 'lr=1e-6')"
            ]
          },
          "metadata": {},
          "execution_count": 31
        },
        {
          "output_type": "display_data",
          "data": {
            "text/plain": [
              "<Figure size 432x288 with 1 Axes>"
            ],
            "image/png": "[encoded data removed]"
          },
          "metadata": {}
        }
      ]
    },
    {
      "cell_type": "code",
      "source": [
        "t0, t1 = 200, 100000\n",
        "def learning_schedule(t):\n",
        "  return t0/(t+t1)"
      ],
      "metadata": {
        "id": "S0HlTwSJ-jq_"
      },
      "execution_count": 32,
      "outputs": []
    },
    {
      "cell_type": "code",
      "source": [
        "# Mini Batch Gradient Descent\n",
        "# The ket idea here is to perform weight updates by computing gradient on batches of small number of examples\n",
        "\n",
        "\n",
        "def mini_batch_gd(X:np.ndarray, y:np.ndarray, sum_iters:int, minibatch_size:int):\n",
        "  '''Estimates parameters of linear regression model through GD\n",
        "  Args:\n",
        "    1. X: Feature matrix for training data\n",
        "    2. y: Label vector for training data\n",
        "    3. num_iters: Number of iterations\n",
        "\n",
        "  Returns:\n",
        "    Weight vector: Final weight vector\n",
        "    Error vector across different iterations \n",
        "    Weight vectors across different iterations\n",
        "    '''\n",
        "  w_all = [] #all parameters across iterations\n",
        "  err_all = [] #error across iterations\n",
        "\n",
        "  #parameter vector initialised to [0,0]\n",
        "  w = np.zeros((X.shape[1]))\n",
        "  t = 0\n",
        "\n",
        "  for epoch in range(sum_iters):\n",
        "    shuffled_indices = np.random.permutation(X.shape[0])\n",
        "    X_shuffled = X[shuffled_indices]\n",
        "    y_shuffled = y[shuffled_indices]\n",
        "    for i in range(0, X.shape[0], minibatch_size):\n",
        "      t += 1\n",
        "      xi = X_shuffled[i:i+minibatch_size]\n",
        "      yi = y_shuffled[i:i+minibatch_size]\n",
        "      err_all.append(loss(xi,yi,w))\n",
        "\n",
        "      gradients = 2/minibatch_size * calculate_gradient(xi,yi,w)\n",
        "      lr = learning_schedule(t)\n",
        "\n",
        "      w = update_weights(w, gradients, lr)\n",
        "      w_all.append(w)\n",
        "\n",
        "    return w, err_all, w_all"
      ],
      "metadata": {
        "id": "iqpkRiQj9ETt"
      },
      "execution_count": 33,
      "outputs": []
    },
    {
      "cell_type": "code",
      "source": [
        "# Testing above function\n",
        "\n",
        "minibatch_size = 10\n",
        "sum_iters = 40\n",
        "\n",
        "X_train, X_test, y_train, y_test = generate_examples(100)\n",
        "w, err_all, w_all = mini_batch_gd(X_train, y_train, sum_iters, minibatch_size)"
      ],
      "metadata": {
        "id": "FpNhIPjA9TWx"
      },
      "execution_count": 34,
      "outputs": []
    },
    {
      "cell_type": "code",
      "source": [
        "plot_learning_curves(err_all)"
      ],
      "metadata": {
        "id": "SoxHIWOA_WNG",
        "outputId": "6afd227c-dc8e-4d57-fe38-fc2d861fcc00",
        "colab": {
          "base_uri": "https://localhost:8080/",
          "height": 54
        }
      },
      "execution_count": 35,
      "outputs": [
        {
          "output_type": "display_data",
          "data": {
            "text/plain": [
              "<Figure size 432x288 with 1 Axes>"
            ],
            "image/png": "[encoded data removed]"
          },
          "metadata": {}
        }
      ]
    },
    {
      "cell_type": "code",
      "source": [
        "#Stochastic Gradient Descent\n",
        "# The key here is to perform weight updates by computing gradient on one example at a time\n",
        "def sgd(X:np.ndarray, y:np.ndarray, num_epochs:int):\n",
        "  '''Estimates parameters of linear regression model through gradient descent\n",
        " \n",
        "  Args:\n",
        "    1. X: Feature matrix for training data\n",
        "    2. y: Label vector for training data\n",
        "    3. num_epochs: Number of epochs\n",
        "  \n",
        "  Returns:\n",
        "    Weight vector: Final weight vector\n",
        "    Error vector across different iterations\n",
        "    Weight vectors across different iterations\n",
        "  '''\n",
        "  w_all = [] # all paramters across iterations\n",
        "  err_all = [] # error across iterations\n",
        "\n",
        "  # Parameter vector intitialised to [0,0]\n",
        "  w = np.zeros((X.shape[1]))\n",
        "  for epoch in range(num_epochs):\n",
        "    for i in range(X.shape[0]):\n",
        "      random_index = np.random.randint(X.shape[0])\n",
        "      xi = X[random_index:random_index + 1]\n",
        "      yi = y[random_index:random_index + 1]\n",
        "      err_all.append(loss(xi, yi, w))\n",
        "\n",
        "      gradients = 2*calculate_gradient(xi,yi,w)\n",
        "      lr = learning_schedule(epoch * X.shape[0] + i)\n",
        "\n",
        "      w = update_weights(w, gradients, lr)\n",
        "      w_all.append(w)\n",
        "  return w, err_all, w_all\n"
      ],
      "metadata": {
        "id": "s-W-QzlZAstk"
      },
      "execution_count": 36,
      "outputs": []
    },
    {
      "cell_type": "code",
      "source": [
        "w, err_all, w_all = sgd(X_train, y_train, 10)\n",
        "plot_learning_curves(err_all)"
      ],
      "metadata": {
        "id": "aIQ-3hvaCtdk",
        "outputId": "7050afec-890d-4cb5-b8a3-61a81f026cbd",
        "colab": {
          "base_uri": "https://localhost:8080/",
          "height": 54
        }
      },
      "execution_count": 37,
      "outputs": [
        {
          "output_type": "display_data",
          "data": {
            "text/plain": [
              "<Figure size 432x288 with 1 Axes>"
            ],
            "image/png": "[encoded data removed]"
          },
          "metadata": {}
        }
      ]
    }
  ]
}