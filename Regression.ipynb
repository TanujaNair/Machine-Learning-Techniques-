{
  "nbformat": 4,
  "nbformat_minor": 0,
  "metadata": {
    "colab": {
      "name": "Regression.ipynb",
      "provenance": [],
      "authorship_tag": "ABX9TyMwFWNj2PSlw5LcPTZvD7o3"
    },
    "kernelspec": {
      "name": "python3",
      "display_name": "Python 3"
    },
    "language_info": {
      "name": "python"
    }
  },
  "cells": [
    {
      "cell_type": "code",
      "execution_count": 1,
      "metadata": {
        "id": "IzbM1eNtiK3K"
      },
      "outputs": [],
      "source": [
        "import itertools\n",
        "import functools\n",
        "import numpy as np\n",
        "import pandas as pd\n",
        "from matplotlib import pyplot as plt\n",
        "from sklearn.model_selection import train_test_split"
      ]
    },
    {
      "cell_type": "code",
      "source": [
        "class LinReg():\n",
        "    def __init__(self):\n",
        "        self.t0 = 200\n",
        "        self.t1 = 100000\n",
        "    def predict (self, X):\n",
        "        y = X @ self.w\n",
        "        return y\n",
        "    def loss (self, X, y):\n",
        "        e = y - self.predict(X)\n",
        "        return 0.5 *(e.T @ e)\n",
        "    def rmse(self,X, y):\n",
        "        return np.sqrt(2/X.shape[0] * self.loss(X, y))\n",
        "    def fit(self, X, y):\n",
        "        self.w = np.linalg.pinv(X) @ y\n",
        "        return self.w\n",
        "    def calculate_gradient(self, X, y):\n",
        "        return X.T @ (self.predict(X) - y)\n",
        "    def update_weights(self, grad, lr):\n",
        "        return (self.w - lr * grad)\n",
        "    def learning_schedule(self, t):\n",
        "        return self.t0 / (self.t0 + self.t1)\n",
        "    def gd(self, X, y, num_epochs, lr):\n",
        "        self.w = np.zeros(X.shape[1])\n",
        "        self.w_all = list() \n",
        "        self.err_all = list()\n",
        "        for i in range(epochs):\n",
        "            dJdw = calculate_gradient(X, y)\n",
        "            self.w_all.append(self.w)\n",
        "            self.err_all.append(self.loss(X, y))\n",
        "            self.w = self.update_weights(dJdw, lr)\n",
        "        return self.w\n",
        "    def mbgd(self, X, y, num_epochs, batch_size):\n",
        "        mini_batch_id = 0\n",
        "        self.w = np.zeros(X.shape[1])  #initializing arbitrary values.\n",
        "        self.w_all = list() \n",
        "        self.err_all = list()\n",
        "\n",
        "        for epoch in range(num_epochs):\n",
        "            shuffled_indices = np.random.permutation(X.shape[0])\n",
        "            X_shuffled = X[shuffled_indices]\n",
        "            y_shuffled = y[shuffled_indices]\n",
        "\n",
        "            for i in range(0, X.shape[0], batch_size):\n",
        "                mini_batch_id += 1\n",
        "                x1 = X_shuffled[i:i+batch_size]\n",
        "                y1 = y_shuffled[i:i+batch_size]\n",
        "\n",
        "                self.w_all.append(self.w)\n",
        "                self.err_all.append(self.loss(X, y))\n",
        "\n",
        "                dJdw = 2/batch_size * self.calculate_gradient(x1, y1)\n",
        "                self.w = self.update_weights(dJdw, self.learning_schedule(mini_batch_id))\n",
        "\n",
        "        return self.w\n",
        "    \n",
        "    def sgd(self, X, y, num_epochs):\n",
        "        batch_size = 1\n",
        "        mini_batch_id = 0\n",
        "        self.w = np.zeros(X.shape[1])  #initializing arbitrary values.\n",
        "        self.w_all = list() \n",
        "        self.err_all = list()\n",
        "\n",
        "        for epoch in range(num_epochs):\n",
        "            shuffled_indices = np.random.permutation(X.shape[0])\n",
        "            X_shuffled = X[shuffled_indices]\n",
        "            y_shuffled = y[shuffled_indices]\n",
        "\n",
        "            for i in range(0, X.shape[0], batch_size):\n",
        "                mini_batch_id += 1\n",
        "                x1 = X_shuffled[i:i+batch_size]\n",
        "                y1 = y_shuffled[i:i+batch_size]\n",
        "\n",
        "                self.w_all.append(self.w)\n",
        "                self.err_all.append(self.loss(X, y))\n",
        "\n",
        "                dJdw = 2/batch_size * self.calculate_gradient(x1, y1)\n",
        "                self.w = self.update_weights(dJdw, self.learning_schedule(mini_batch_id))\n",
        "\n",
        "        return self.w"
      ],
      "metadata": {
        "id": "nVIBJ4MZieVS"
      },
      "execution_count": 2,
      "outputs": []
    },
    {
      "cell_type": "code",
      "source": [
        "import warnings\n",
        "warnings.filterwarnings(\"ignore\") "
      ],
      "metadata": {
        "id": "KaTkWolpjBGG"
      },
      "execution_count": 3,
      "outputs": []
    },
    {
      "cell_type": "code",
      "source": [
        "def get_combinations(x, degree):\n",
        "  return itertools.combinations_with_replacement(x, degree)"
      ],
      "metadata": {
        "id": "Ahhv58jklfMQ"
      },
      "execution_count": 4,
      "outputs": []
    },
    {
      "cell_type": "code",
      "source": [
        "def compute_new_feature(items):\n",
        "  #reduce (lambda x,y: x*y, [1,2,3,4,5]) calculates ((((1*2)*3)*4)*5)\n",
        "  return functools.reduce(lambda x, y: x*y, items)"
      ],
      "metadata": {
        "id": "ifLff0WAlhUd"
      },
      "execution_count": 5,
      "outputs": []
    },
    {
      "cell_type": "code",
      "source": [
        "{items: compute_new_feature(items) for items in get_combinations([1], 3)} "
      ],
      "metadata": {
        "colab": {
          "base_uri": "https://localhost:8080/"
        },
        "id": "CHiW2iaIl_f0",
        "outputId": "4eecd253-e471-4a22-d088-f2d696755ca8"
      },
      "execution_count": 6,
      "outputs": [
        {
          "output_type": "execute_result",
          "data": {
            "text/plain": [
              "{(1, 1, 1): 1}"
            ]
          },
          "metadata": {},
          "execution_count": 6
        }
      ]
    },
    {
      "cell_type": "code",
      "source": [
        "{items: compute_new_feature(items) for items in get_combinations([2,3], 3)}"
      ],
      "metadata": {
        "colab": {
          "base_uri": "https://localhost:8080/"
        },
        "id": "jawrFKvhmg0I",
        "outputId": "dae7e324-0886-4fc2-a94d-7f2628295181"
      },
      "execution_count": 7,
      "outputs": [
        {
          "output_type": "execute_result",
          "data": {
            "text/plain": [
              "{(2, 2, 2): 8, (2, 2, 3): 12, (2, 3, 3): 18, (3, 3, 3): 27}"
            ]
          },
          "metadata": {},
          "execution_count": 7
        }
      ]
    },
    {
      "cell_type": "code",
      "source": [
        "{items: compute_new_feature(items) for items in get_combinations([1,4], 4)}"
      ],
      "metadata": {
        "colab": {
          "base_uri": "https://localhost:8080/"
        },
        "id": "myNuOJ0jmdAb",
        "outputId": "75117070-9606-4946-8c9a-1ae97ed81da9"
      },
      "execution_count": 8,
      "outputs": [
        {
          "output_type": "execute_result",
          "data": {
            "text/plain": [
              "{(1, 1, 1, 1): 1,\n",
              " (1, 1, 1, 4): 4,\n",
              " (1, 1, 4, 4): 16,\n",
              " (1, 4, 4, 4): 64,\n",
              " (4, 4, 4, 4): 256}"
            ]
          },
          "metadata": {},
          "execution_count": 8
        }
      ]
    },
    {
      "cell_type": "code",
      "source": [
        "def polynomial_transform(x, degree, logging=False):\n",
        "  #converts to feature matrix\n",
        "  if x.ndim == 1:\n",
        "    x = x[:, None]\n",
        "\n",
        "  x_t = x.transpose() #transpose of the feature matrix\n",
        "  features = [np.ones(len(x))] #populates 1s as first feature for each example\n",
        "\n",
        "  if logging:\n",
        "    print(\"Input:\", x)\n",
        "  for degree in range(1, degree+1):\n",
        "    for items in get_combinations(x_t, degree): #generate combinations\n",
        "      features.append(compute_new_feature(items)) #combine features into a new feature\n",
        "      if logging:\n",
        "        print(items, \":\", compute_new_feature(items))\n",
        "\n",
        "  if logging:\n",
        "    print(np.asarray(features).transpose())\n",
        "  return np.asarray(features).transpose()"
      ],
      "metadata": {
        "id": "R18XOACVmmoL"
      },
      "execution_count": 9,
      "outputs": []
    },
    {
      "cell_type": "code",
      "source": [
        "polynomial_transform(np.array([2]), 3, logging=True) "
      ],
      "metadata": {
        "colab": {
          "base_uri": "https://localhost:8080/"
        },
        "id": "g1Lv0LjfE4AU",
        "outputId": "e1f17d70-4759-44c1-b7f2-1c1ff2fe190f"
      },
      "execution_count": 10,
      "outputs": [
        {
          "output_type": "stream",
          "name": "stdout",
          "text": [
            "Input: [[2]]\n",
            "(array([2]),) : [2]\n",
            "(array([2]), array([2])) : [4]\n",
            "(array([2]), array([2]), array([2])) : [8]\n",
            "[[1. 2. 4. 8.]]\n"
          ]
        },
        {
          "output_type": "execute_result",
          "data": {
            "text/plain": [
              "array([[1., 2., 4., 8.]])"
            ]
          },
          "metadata": {},
          "execution_count": 10
        }
      ]
    },
    {
      "cell_type": "code",
      "source": [
        "polynomial_transform(np.array([2,3]),2,logging=True)"
      ],
      "metadata": {
        "colab": {
          "base_uri": "https://localhost:8080/"
        },
        "id": "yGlgsh38FZBP",
        "outputId": "d5b91177-69b8-4a44-dc86-46c86130bf5c"
      },
      "execution_count": 11,
      "outputs": [
        {
          "output_type": "stream",
          "name": "stdout",
          "text": [
            "Input: [[2]\n",
            " [3]]\n",
            "(array([2, 3]),) : [2 3]\n",
            "(array([2, 3]), array([2, 3])) : [4 9]\n",
            "[[1. 2. 4.]\n",
            " [1. 3. 9.]]\n"
          ]
        },
        {
          "output_type": "execute_result",
          "data": {
            "text/plain": [
              "array([[1., 2., 4.],\n",
              "       [1., 3., 9.]])"
            ]
          },
          "metadata": {},
          "execution_count": 11
        }
      ]
    },
    {
      "cell_type": "code",
      "source": [
        "polynomial_transform(np.array([[2,3],[4,5]]),2, logging=True)"
      ],
      "metadata": {
        "colab": {
          "base_uri": "https://localhost:8080/"
        },
        "id": "mzfliSuyFb2p",
        "outputId": "be66ba45-5682-41b3-c711-98bce8026024"
      },
      "execution_count": 13,
      "outputs": [
        {
          "output_type": "stream",
          "name": "stdout",
          "text": [
            "Input: [[2 3]\n",
            " [4 5]]\n",
            "(array([2, 4]),) : [2 4]\n",
            "(array([3, 5]),) : [3 5]\n",
            "(array([2, 4]), array([2, 4])) : [ 4 16]\n",
            "(array([2, 4]), array([3, 5])) : [ 6 20]\n",
            "(array([3, 5]), array([3, 5])) : [ 9 25]\n",
            "[[ 1.  2.  3.  4.  6.  9.]\n",
            " [ 1.  4.  5. 16. 20. 25.]]\n"
          ]
        },
        {
          "output_type": "execute_result",
          "data": {
            "text/plain": [
              "array([[ 1.,  2.,  3.,  4.,  6.,  9.],\n",
              "       [ 1.,  4.,  5., 16., 20., 25.]])"
            ]
          },
          "metadata": {},
          "execution_count": 13
        }
      ]
    },
    {
      "cell_type": "code",
      "source": [
        "polynomial_transform(np.array([[2,3],[4,5]]),3, logging=True)"
      ],
      "metadata": {
        "colab": {
          "base_uri": "https://localhost:8080/"
        },
        "id": "EJ33JoPnFo5X",
        "outputId": "87d5d736-028f-4a4d-857a-0207df2d9ecb"
      },
      "execution_count": 14,
      "outputs": [
        {
          "output_type": "stream",
          "name": "stdout",
          "text": [
            "Input: [[2 3]\n",
            " [4 5]]\n",
            "(array([2, 4]),) : [2 4]\n",
            "(array([3, 5]),) : [3 5]\n",
            "(array([2, 4]), array([2, 4])) : [ 4 16]\n",
            "(array([2, 4]), array([3, 5])) : [ 6 20]\n",
            "(array([3, 5]), array([3, 5])) : [ 9 25]\n",
            "(array([2, 4]), array([2, 4]), array([2, 4])) : [ 8 64]\n",
            "(array([2, 4]), array([2, 4]), array([3, 5])) : [12 80]\n",
            "(array([2, 4]), array([3, 5]), array([3, 5])) : [ 18 100]\n",
            "(array([3, 5]), array([3, 5]), array([3, 5])) : [ 27 125]\n",
            "[[  1.   2.   3.   4.   6.   9.   8.  12.  18.  27.]\n",
            " [  1.   4.   5.  16.  20.  25.  64.  80. 100. 125.]]\n"
          ]
        },
        {
          "output_type": "execute_result",
          "data": {
            "text/plain": [
              "array([[  1.,   2.,   3.,   4.,   6.,   9.,   8.,  12.,  18.,  27.],\n",
              "       [  1.,   4.,   5.,  16.,  20.,  25.,  64.,  80., 100., 125.]])"
            ]
          },
          "metadata": {},
          "execution_count": 14
        }
      ]
    },
    {
      "cell_type": "code",
      "source": [
        "polynomial_transform(np.array([2]),0, logging=True)"
      ],
      "metadata": {
        "colab": {
          "base_uri": "https://localhost:8080/"
        },
        "id": "_TzAjyzaF15F",
        "outputId": "2e0a1746-ad36-40e0-a9fe-f04f7d7beb5c"
      },
      "execution_count": 17,
      "outputs": [
        {
          "output_type": "stream",
          "name": "stdout",
          "text": [
            "Input: [[2]]\n",
            "[[1.]]\n"
          ]
        },
        {
          "output_type": "execute_result",
          "data": {
            "text/plain": [
              "array([[1.]])"
            ]
          },
          "metadata": {},
          "execution_count": 17
        }
      ]
    }
  ]
}